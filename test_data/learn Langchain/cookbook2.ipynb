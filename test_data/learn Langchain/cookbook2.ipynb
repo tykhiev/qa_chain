{
 "cells": [
  {
   "attachments": {},
   "cell_type": "markdown",
   "metadata": {},
   "source": [
    "Summerization Of Short Text "
   ]
  },
  {
   "cell_type": "code",
   "execution_count": null,
   "metadata": {},
   "outputs": [],
   "source": [
    "import os\n",
    "openai_api_key=os.getenv('OPENAI_API_KEY')"
   ]
  },
  {
   "cell_type": "code",
   "execution_count": null,
   "metadata": {},
   "outputs": [],
   "source": [
    "from langchain.llms import OpenAI\n",
    "from langchain.prompts import PromptTemplate\n",
    "\n",
    "llm = OpenAI(temperature=0, model_name=\"text-davinci-003\", openai_api_key=openai_api_key)"
   ]
  },
  {
   "cell_type": "code",
   "execution_count": null,
   "metadata": {},
   "outputs": [],
   "source": [
    "template =  \"\"\"\n",
    "%INSTRUCTION\n",
    "please summerize the following text. \n",
    "Respond in a manner that a 5 year old would understand. \n",
    "\n",
    "%TEXT\n",
    "{text}\n",
    "\"\"\"\n",
    "\n",
    "prompt = PromptTemplate(template=template, input_variables=[\"text\"])"
   ]
  },
  {
   "cell_type": "code",
   "execution_count": null,
   "metadata": {},
   "outputs": [],
   "source": [
    "confusing_text = \"\"\"\n",
    "Twinkle, twinkle, little star,\n",
    "How I wonder what you are!\n",
    "Up above the world so high,\n",
    "Like a diamond in the sky.\n",
    "\n",
    "When the blazing sun is gone,\n",
    "When he nothing shines upon,\n",
    "Then you show your little light,\n",
    "Twinkle, twinkle, all the night.\n",
    "\n",
    "In the dark blue sky you keep,\n",
    "And often through my curtains peep,\n",
    "For you never shut your eye,\n",
    "Till the sun is in the sky.\n",
    "\n",
    "As your bright and tiny spark,\n",
    "Lights the traveler in the dark,\n",
    "Though I know not what you are,\n",
    "Twinkle, twinkle, little star.\n",
    "\"\"\"\n",
    "\n",
    "final_prompt = prompt.format(text=confusing_text)\n",
    "print(llm(final_prompt))"
   ]
  },
  {
   "attachments": {},
   "cell_type": "markdown",
   "metadata": {},
   "source": [
    "Summerization Longer Text"
   ]
  },
  {
   "cell_type": "code",
   "execution_count": 14,
   "metadata": {},
   "outputs": [],
   "source": [
    "from langchain.llms import OpenAI\n",
    "from langchain.chains.summarize import load_summarize_chain\n",
    "from langchain.text_splitter import RecursiveCharacterTextSplitter\n",
    "\n",
    "llm = OpenAI(temperature=0.5, openai_api_key=openai_api_key, model_name=\"text-davinci-003\")"
   ]
  },
  {
   "cell_type": "code",
   "execution_count": null,
   "metadata": {},
   "outputs": [],
   "source": [
    "with open('C:/Users/USER/OneDrive/Documents/ai-chatbot-3/server/test_data/learn Langchain/test.txt', 'r') as file:\n",
    "    text = file.read()\n",
    "\n",
    "print(text[285:])"
   ]
  },
  {
   "cell_type": "code",
   "execution_count": null,
   "metadata": {},
   "outputs": [],
   "source": [
    "num_tokens = llm.get_num_tokens(text)\n",
    "print(num_tokens)\n",
    "text_splitter = RecursiveCharacterTextSplitter(chunk_size=400, chunk_overlap=150)\n",
    "docs = text_splitter.create_documents([text])\n",
    "print(len(docs))"
   ]
  },
  {
   "cell_type": "code",
   "execution_count": 20,
   "metadata": {},
   "outputs": [
    {
     "name": "stdout",
     "output_type": "stream",
     "text": [
      " The world is a complex and diverse place, with advances in science and technology, digital communication, and sustainable practices. Culture and the arts allow us to explore different perspectives, while advances in health and medicine have enabled us to live longer, healthier lives. Human connection and compassion are key to creating a brighter future with innovation, sustainability, and social progress.\n"
     ]
    }
   ],
   "source": [
    "chain = load_summarize_chain(llm=llm, chain_type=\"map_reduce\")\n",
    "output = chain.run(docs)\n",
    "print(output)"
   ]
  },
  {
   "attachments": {},
   "cell_type": "markdown",
   "metadata": {},
   "source": [
    "Question and Answer Using As Context"
   ]
  }
 ],
 "metadata": {
  "kernelspec": {
   "display_name": "Python 3",
   "language": "python",
   "name": "python3"
  },
  "language_info": {
   "codemirror_mode": {
    "name": "ipython",
    "version": 3
   },
   "file_extension": ".py",
   "mimetype": "text/x-python",
   "name": "python",
   "nbconvert_exporter": "python",
   "pygments_lexer": "ipython3",
   "version": "3.10.11"
  },
  "orig_nbformat": 4
 },
 "nbformat": 4,
 "nbformat_minor": 2
}
